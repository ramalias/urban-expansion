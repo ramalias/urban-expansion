{
  "nbformat": 4,
  "nbformat_minor": 0,
  "metadata": {
    "colab": {
      "provenance": [],
      "mount_file_id": "https://github.com/ramalias/urban-expansion/blob/main/main-urban-expansion.ipynb",
      "authorship_tag": "ABX9TyOpw55jimUfSCs9WpebE8sm",
      "include_colab_link": true
    },
    "kernelspec": {
      "name": "python3",
      "display_name": "Python 3"
    },
    "language_info": {
      "name": "python"
    }
  },
  "cells": [
    {
      "cell_type": "markdown",
      "metadata": {
        "id": "view-in-github",
        "colab_type": "text"
      },
      "source": [
        "<a href=\"https://colab.research.google.com/github/ramalias/urban-expansion/blob/main/main-urban-expansion.ipynb\" target=\"_parent\"><img src=\"https://colab.research.google.com/assets/colab-badge.svg\" alt=\"Open In Colab\"/></a>"
      ]
    },
    {
      "cell_type": "code",
      "execution_count": 1,
      "metadata": {
        "id": "JEbInJU9hwkf",
        "colab": {
          "base_uri": "https://localhost:8080/"
        },
        "outputId": "b801fdaa-9c95-42d3-a1e5-21d0db8ad331"
      },
      "outputs": [
        {
          "output_type": "stream",
          "name": "stdout",
          "text": [
            "Drive already mounted at /content/drive; to attempt to forcibly remount, call drive.mount(\"/content/drive\", force_remount=True).\n"
          ]
        }
      ],
      "source": [
        "from google.colab import drive\n",
        "drive.mount('/content/drive')"
      ]
    },
    {
      "cell_type": "code",
      "source": [
        "#install library\n",
        "!pip install sentinelsat"
      ],
      "metadata": {
        "colab": {
          "base_uri": "https://localhost:8080/"
        },
        "id": "20uB-86bsayt",
        "outputId": "0fc262a2-c2cc-4e42-d52a-d1f02a2880e4"
      },
      "execution_count": 11,
      "outputs": [
        {
          "output_type": "stream",
          "name": "stdout",
          "text": [
            "Requirement already satisfied: sentinelsat in /usr/local/lib/python3.12/dist-packages (1.2.1)\n",
            "Requirement already satisfied: requests in /usr/local/lib/python3.12/dist-packages (from sentinelsat) (2.32.4)\n",
            "Requirement already satisfied: click>=7.1 in /usr/local/lib/python3.12/dist-packages (from sentinelsat) (8.3.0)\n",
            "Requirement already satisfied: html2text in /usr/local/lib/python3.12/dist-packages (from sentinelsat) (2025.4.15)\n",
            "Requirement already satisfied: geojson>=2 in /usr/local/lib/python3.12/dist-packages (from sentinelsat) (3.2.0)\n",
            "Requirement already satisfied: tqdm>=4.58 in /usr/local/lib/python3.12/dist-packages (from sentinelsat) (4.67.1)\n",
            "Requirement already satisfied: geomet in /usr/local/lib/python3.12/dist-packages (from sentinelsat) (1.1.0)\n",
            "Requirement already satisfied: charset_normalizer<4,>=2 in /usr/local/lib/python3.12/dist-packages (from requests->sentinelsat) (3.4.4)\n",
            "Requirement already satisfied: idna<4,>=2.5 in /usr/local/lib/python3.12/dist-packages (from requests->sentinelsat) (3.11)\n",
            "Requirement already satisfied: urllib3<3,>=1.21.1 in /usr/local/lib/python3.12/dist-packages (from requests->sentinelsat) (2.5.0)\n",
            "Requirement already satisfied: certifi>=2017.4.17 in /usr/local/lib/python3.12/dist-packages (from requests->sentinelsat) (2025.10.5)\n"
          ]
        }
      ]
    },
    {
      "cell_type": "code",
      "source": [
        "#import library\n",
        "\n",
        "import os\n",
        "from sentinelsat import SentinelAPI, read_geojson, geojson_to_wkt\n",
        "from datetime import date\n",
        "from datetime import date, timedelta # To define date range of data\n",
        "import requests # To define http request to be make\n",
        "import pandas as pd # Convert data received from copernicus API in easier format\n",
        "import geopandas as gpd # Convert Pandas dataframe in Geo pandas will allow us to use metadata and geoemtry.\n",
        "from shapely.geometry import shape # To convert raw Geometry data"
      ],
      "metadata": {
        "id": "GCd8I8GajEJK"
      },
      "execution_count": 24,
      "outputs": []
    },
    {
      "cell_type": "code",
      "source": [
        "#create main project folder\n",
        "project_root = '/content/drive/MyDrive/project/urban-exansion'\n",
        "os.makedirs(project_root, exist_ok=True)\n",
        "\n",
        "os.makedirs(os.path.join(project_root, 'data'), exist_ok=True)\n",
        "os.makedirs(os.path.join(project_root, 'models'), exist_ok=True)\n",
        "\n",
        "print('Workspace created at:', project_root)"
      ],
      "metadata": {
        "colab": {
          "base_uri": "https://localhost:8080/"
        },
        "id": "bvhOLeK7kEJk",
        "outputId": "c1e83309-676c-4623-f494-896983c04dc5"
      },
      "execution_count": 3,
      "outputs": [
        {
          "output_type": "stream",
          "name": "stdout",
          "text": [
            "Workspace created at: /content/drive/MyDrive/project/urban-exansion\n"
          ]
        }
      ]
    },
    {
      "cell_type": "code",
      "source": [
        "api = SentinelAPI(os.environ['COPERNICUS_USER'], os.environ['COPERNICUS_PWD'], 'https://apihub.copernicus.eu/apihub')"
      ],
      "metadata": {
        "id": "IK7fYws2v3Z4"
      },
      "execution_count": 18,
      "outputs": []
    },
    {
      "cell_type": "code",
      "source": [
        "import getpass\n",
        "username = input(\"Enter your Copernicus username: \")\n",
        "password = getpass.getpass(\"Enter your Copernicus password: \")\n",
        "\n",
        "from sentinelsat import SentinelAPI\n",
        "api = SentinelAPI(username, password, 'https://apihub.copernicus.eu/apihub')"
      ],
      "metadata": {
        "colab": {
          "base_uri": "https://localhost:8080/"
        },
        "id": "exZPwSFpwEYn",
        "outputId": "80212e76-505b-4f4b-a164-ed768fd611d8"
      },
      "execution_count": 20,
      "outputs": [
        {
          "name": "stdout",
          "output_type": "stream",
          "text": [
            "Enter your Copernicus username: rizqiasm18@gmail.com\n",
            "Enter your Copernicus password: ··········\n"
          ]
        }
      ]
    },
    {
      "cell_type": "code",
      "source": [
        "# copernicus User email\n",
        "copernicus_user = os.getenv(\"copernicus_user\")\n",
        "# copernicus User Password\n",
        "copernicus_password = os.getenv(\"copernicus_password\")\n",
        "# WKT Representation of BBOX of AOI\n",
        "ft = \"POLYGON((0 0, 0 1, 1 1, 1 0, 0 0))\"\n",
        "# Sentinel satellite that you are interested in\n",
        "data_collection = \"SENTINEL-2\""
      ],
      "metadata": {
        "id": "aUoriQWGzrdI"
      },
      "execution_count": 26,
      "outputs": []
    },
    {
      "cell_type": "code",
      "source": [
        "#dates of search\n",
        "today = date.today()\n",
        "today_string = today.strftime(\"%Y%m%d\")\n",
        "yesterday = today - timedelta(days=1)\n",
        "yesterday_string = yesterday.strftime(\"%Y%m%d\")"
      ],
      "metadata": {
        "id": "XbgMt_KryZpW"
      },
      "execution_count": 25,
      "outputs": []
    },
    {
      "cell_type": "code",
      "source": [
        "def get_keycloak(username: str, password: str) -> str:\n",
        "    data = {\n",
        "        \"client_id\": \"cdse-public\",\n",
        "        \"username\": username,\n",
        "        \"password\": password,\n",
        "        \"grant_type\": \"password\",\n",
        "    }\n",
        "    try:\n",
        "        r = requests.post(\n",
        "            \"https://identity.dataspace.copernicus.eu/auth/realms/CDSE/protocol/openid-connect/token\",\n",
        "            data=data,\n",
        "        )\n",
        "        r.raise_for_status()\n",
        "    except Exception as e:\n",
        "        raise Exception(\n",
        "            f\"Keycloak token creation failed. Reponse from the server was: {r.json()}\"\n",
        "        )\n",
        "    return r.json()[\"access_token\"]"
      ],
      "metadata": {
        "id": "24RsDHTNywgY"
      },
      "execution_count": 27,
      "outputs": []
    },
    {
      "cell_type": "code",
      "source": [
        "json_ = requests.get(\n",
        "    f\"https://catalogue.dataspace.copernicus.eu/odata/v1/Products?$filter=Collection/Name eq '{data_collection}' and OData.CSC.Intersects(area=geography'SRID=4326;{ft}') and ContentDate/Start gt '{yesterday_string}T00:00:00.000Z' and ContentDate/Start lt '{today_string}T00:00:00.000Z'&$count=True&$top=1000\"\n",
        ").json()\n",
        "p = pd.DataFrame.from_dict(json_[\"value\"]) # Fetch available dataset\n",
        "if p.shape[0] > 0 : # If we get data back\n",
        "    p[\"geometry\"] = p[\"GeoFootprint\"].apply(shape)\n",
        "    # Convert pandas dataframe to Geopandas dataframe by setting up geometry\n",
        "    productDF = gpd.GeoDataFrame(p).set_geometry(\"geometry\")\n",
        "    # Remove L1C dataset if not needed\n",
        "    productDF = productDF[~productDF[\"Name\"].str.contains(\"L1C\")]\n",
        "    print(f\" total L2A tiles found {len(productDF)}\")\n",
        "    productDF[\"identifier\"] = productDF[\"Name\"].str.split(\".\").str[0]\n",
        "    allfeat = len(productDF)\n",
        "\n",
        "    if allfeat == 0: # If L2A tiles are not available in current query\n",
        "        print(f\"No tiles found for {today_string}\")\n",
        "    else: # If L2A tiles are available in current query\n",
        "        # download all tiles from server\n",
        "        for index,feat in enumerate(productDF.iterfeatures()):\n",
        "            try:\n",
        "                # Create requests session\n",
        "                session = requests.Session()\n",
        "                # Get access token based on username and password\n",
        "                keycloak_token = get_keycloak(copernicus_user,copernicus_password)\n",
        "\n",
        "                session.headers.update({\"Authorization\": f\"Bearer {keycloak_token}\"})\n",
        "                url = f\"https://catalogue.dataspace.copernicus.eu/odata/v1/Products({feat['properties']['Id']})/$value\"\n",
        "                response = session.get(url, allow_redirects=False)\n",
        "                while response.status_code in (301, 302, 303, 307):\n",
        "                    url = response.headers[\"Location\"]\n",
        "                    response = session.get(url, allow_redirects=False)\n",
        "                print(feat[\"properties\"][\"Id\"])\n",
        "                file = session.get(url, verify=False, allow_redirects=True)\n",
        "\n",
        "                with open(\n",
        "                    f\"location/to/save/{feat['properties']['identifier']}.zip\", #location to save zip from copernicus\n",
        "                    \"wb\",\n",
        "                ) as p:\n",
        "                    print(feat[\"properties\"][\"Name\"])\n",
        "                    p.write(file.content)\n",
        "            except:\n",
        "                print(\"problem with server\")\n",
        "else : # If no tiles found for given date range and AOI\n",
        "    print('no data found')"
      ],
      "metadata": {
        "colab": {
          "base_uri": "https://localhost:8080/"
        },
        "id": "z0FMwcCe0Dc4",
        "outputId": "c4b1ba66-9120-4029-dde7-7f45d107e324"
      },
      "execution_count": 29,
      "outputs": [
        {
          "output_type": "stream",
          "name": "stdout",
          "text": [
            "no data found\n"
          ]
        }
      ]
    },
    {
      "cell_type": "code",
      "source": [],
      "metadata": {
        "id": "aDOy-NcN0HOP"
      },
      "execution_count": null,
      "outputs": []
    }
  ]
}